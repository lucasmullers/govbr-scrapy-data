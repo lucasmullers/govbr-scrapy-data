{
 "cells": [
  {
   "cell_type": "code",
   "execution_count": 1,
   "metadata": {},
   "outputs": [],
   "source": [
    "from os import getenv\n",
    "from dotenv import load_dotenv\n",
    "from pyspark.sql import SparkSession\n",
    "import pyspark.sql.functions as F"
   ]
  },
  {
   "cell_type": "code",
   "execution_count": 2,
   "metadata": {},
   "outputs": [
    {
     "data": {
      "text/plain": [
       "True"
      ]
     },
     "execution_count": 2,
     "metadata": {},
     "output_type": "execute_result"
    }
   ],
   "source": [
    "load_dotenv(\"../dags/.env\")"
   ]
  },
  {
   "cell_type": "code",
   "execution_count": 3,
   "metadata": {},
   "outputs": [
    {
     "name": "stderr",
     "output_type": "stream",
     "text": [
      "23/06/15 21:48:01 WARN Utils: Your hostname, nobara-pc resolves to a loopback address: 127.0.1.1; using 192.168.15.132 instead (on interface wlp4s0)\n",
      "23/06/15 21:48:01 WARN Utils: Set SPARK_LOCAL_IP if you need to bind to another address\n"
     ]
    },
    {
     "name": "stdout",
     "output_type": "stream",
     "text": [
      ":: loading settings :: url = jar:file:/home/lucasm/Github/projects/govbr-scrapy-data/.venv/lib/python3.10/site-packages/pyspark/jars/ivy-2.5.1.jar!/org/apache/ivy/core/settings/ivysettings.xml\n"
     ]
    },
    {
     "name": "stderr",
     "output_type": "stream",
     "text": [
      "Ivy Default Cache set to: /home/lucasm/.ivy2/cache\n",
      "The jars for the packages stored in: /home/lucasm/.ivy2/jars\n",
      "org.apache.hadoop#hadoop-aws added as a dependency\n",
      "com.amazonaws#aws-java-sdk-bundle added as a dependency\n",
      "io.delta#delta-core_2.12 added as a dependency\n",
      "io.delta#delta-storage added as a dependency\n",
      ":: resolving dependencies :: org.apache.spark#spark-submit-parent-31a09cdb-b42c-4bcf-a93b-cb58efdfad6e;1.0\n",
      "\tconfs: [default]\n",
      "\tfound org.apache.hadoop#hadoop-aws;3.3.1 in central\n",
      "\tfound com.amazonaws#aws-java-sdk-bundle;1.11.901 in central\n",
      "\tfound org.wildfly.openssl#wildfly-openssl;1.0.7.Final in central\n",
      "\tfound io.delta#delta-core_2.12;2.4.0 in central\n",
      "\tfound io.delta#delta-storage;2.4.0 in central\n",
      "\tfound org.antlr#antlr4-runtime;4.9.3 in central\n",
      "downloading https://repo1.maven.org/maven2/org/apache/hadoop/hadoop-aws/3.3.1/hadoop-aws-3.3.1.jar ...\n",
      "\t[SUCCESSFUL ] org.apache.hadoop#hadoop-aws;3.3.1!hadoop-aws.jar (692ms)\n",
      "downloading https://repo1.maven.org/maven2/com/amazonaws/aws-java-sdk-bundle/1.11.901/aws-java-sdk-bundle-1.11.901.jar ...\n",
      "\t[SUCCESSFUL ] com.amazonaws#aws-java-sdk-bundle;1.11.901!aws-java-sdk-bundle.jar (18019ms)\n",
      ":: resolution report :: resolve 6033ms :: artifacts dl 18719ms\n",
      "\t:: modules in use:\n",
      "\tcom.amazonaws#aws-java-sdk-bundle;1.11.901 from central in [default]\n",
      "\tio.delta#delta-core_2.12;2.4.0 from central in [default]\n",
      "\tio.delta#delta-storage;2.4.0 from central in [default]\n",
      "\torg.antlr#antlr4-runtime;4.9.3 from central in [default]\n",
      "\torg.apache.hadoop#hadoop-aws;3.3.1 from central in [default]\n",
      "\torg.wildfly.openssl#wildfly-openssl;1.0.7.Final from central in [default]\n",
      "\t---------------------------------------------------------------------\n",
      "\t|                  |            modules            ||   artifacts   |\n",
      "\t|       conf       | number| search|dwnlded|evicted|| number|dwnlded|\n",
      "\t---------------------------------------------------------------------\n",
      "\t|      default     |   6   |   2   |   2   |   0   ||   6   |   2   |\n",
      "\t---------------------------------------------------------------------\n",
      ":: retrieving :: org.apache.spark#spark-submit-parent-31a09cdb-b42c-4bcf-a93b-cb58efdfad6e\n",
      "\tconfs: [default]\n",
      "\t2 artifacts copied, 4 already retrieved (188663kB/168ms)\n",
      "23/06/15 21:48:26 WARN NativeCodeLoader: Unable to load native-hadoop library for your platform... using builtin-java classes where applicable\n",
      "Setting default log level to \"WARN\".\n",
      "To adjust logging level use sc.setLogLevel(newLevel). For SparkR, use setLogLevel(newLevel).\n"
     ]
    }
   ],
   "source": [
    "AWS_PACKAGES = \"org.apache.hadoop:hadoop-aws:3.3.1,com.amazonaws:aws-java-sdk-bundle:1.11.901\"\n",
    "DELTA_PACKAGES = \"io.delta:delta-core_2.12:2.4.0,io.delta:delta-storage:2.4.0\"\n",
    "\n",
    "spark = (\n",
    "    SparkSession\n",
    "    .builder\n",
    "    .config(\"spark.jars.packages\", f\"{AWS_PACKAGES},{DELTA_PACKAGES}\")\n",
    "    .config(\"spark.hadoop.fs.s3a.impl\", \"org.apache.hadoop.fs.s3a.S3AFileSystem\")\n",
    "    .config(\"spark.hadoop.fs.s3a.access.key\", getenv(\"access_key\"))\n",
    "    .config(\"spark.hadoop.fs.s3a.secret.key\", getenv(\"secret_access_key\"))\n",
    "    .config(\"spark.sql.extensions\", \"io.delta.sql.DeltaSparkSessionExtension\")\n",
    "    .config(\"spark.sql.catalog.spark_catalog\", \"org.apache.spark.sql.delta.catalog.DeltaCatalog\")\n",
    "    .config(\"spark.hadoop.fs.s3a.aws.credentials.provider\", \"org.apache.hadoop.fs.s3a.SimpleAWSCredentialsProvider\")\n",
    "    .getOrCreate()\n",
    ")"
   ]
  },
  {
   "cell_type": "code",
   "execution_count": 10,
   "metadata": {},
   "outputs": [
    {
     "name": "stdout",
     "output_type": "stream",
     "text": [
      "+----------------------------------------------------------------------------------------------------+-------------------+------+--------------------------+--------------+----------------------+\n",
      "|url                                                                                                 |display_name       |source|downloaded_at             |filename      |datasource            |\n",
      "+----------------------------------------------------------------------------------------------------+-------------------+------+--------------------------+--------------+----------------------+\n",
      "|https://www.gov.br/anp/pt-br/centrais-de-conteudo/dados-abertos/arquivos/shpc/dsas/ca/ca-2015-01.csv|1º semestre de 2015|ANP   |2023-06-15 22:18:52.189621|ca-2015-01.csv|precos-de-combustiveis|\n",
      "|https://www.gov.br/anp/pt-br/centrais-de-conteudo/dados-abertos/arquivos/shpc/dsas/ca/ca-2020-01.csv|1º semestre de 2020|ANP   |2023-06-15 22:12:34.396317|ca-2020-01.csv|precos-de-combustiveis|\n",
      "+----------------------------------------------------------------------------------------------------+-------------------+------+--------------------------+--------------+----------------------+\n",
      "\n"
     ]
    }
   ],
   "source": [
    "metadata_df = spark.read.format(\"delta\").load(\"s3a://govbr-data/bronze/metadata/\")\n",
    "metadata_df.show(10, truncate=False)"
   ]
  },
  {
   "cell_type": "code",
   "execution_count": 5,
   "metadata": {},
   "outputs": [
    {
     "name": "stdout",
     "output_type": "stream",
     "text": [
      "+----------------------------------------------------------------------------------------------------+-------------------+------+--------------------------+--------------+----------------------+\n",
      "|url                                                                                                 |display_name       |source|downloaded_at             |filename      |datasource            |\n",
      "+----------------------------------------------------------------------------------------------------+-------------------+------+--------------------------+--------------+----------------------+\n",
      "|https://www.gov.br/anp/pt-br/centrais-de-conteudo/dados-abertos/arquivos/shpc/dsas/ca/ca-2022-02.zip|2º semestre de 2022|ANP   |2023-06-14 22:10:36.714282|ca-2022-02.csv|precos-de-combustiveis|\n",
      "+----------------------------------------------------------------------------------------------------+-------------------+------+--------------------------+--------------+----------------------+\n",
      "\n",
      "Already downloaded files: ['2º semestre de 2022']\n"
     ]
    }
   ],
   "source": [
    "\n",
    "already_downloaded_files = (\n",
    "    # metadata_df.filter(F.col(\"url\") == \"https://www.gov.br/anp/pt-br/centrais-de-conteudo/dados-abertos/arquivos/shpc/dsas/ca/ca-2019-01.csv\")\n",
    "    metadata_df.select(\"display_name\")\n",
    "    .rdd.flatMap(lambda x: x).collect()\n",
    ")\n",
    "print(f\"Already downloaded files: {already_downloaded_files}\")"
   ]
  },
  {
   "cell_type": "code",
   "execution_count": null,
   "metadata": {},
   "outputs": [],
   "source": []
  }
 ],
 "metadata": {
  "kernelspec": {
   "display_name": ".venv",
   "language": "python",
   "name": "python3"
  },
  "language_info": {
   "codemirror_mode": {
    "name": "ipython",
    "version": 3
   },
   "file_extension": ".py",
   "mimetype": "text/x-python",
   "name": "python",
   "nbconvert_exporter": "python",
   "pygments_lexer": "ipython3",
   "version": "3.10.11"
  },
  "orig_nbformat": 4
 },
 "nbformat": 4,
 "nbformat_minor": 2
}
